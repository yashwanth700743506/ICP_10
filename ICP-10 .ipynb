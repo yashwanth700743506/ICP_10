{
  "nbformat": 4,
  "nbformat_minor": 0,
  "metadata": {
    "colab": {
      "provenance": []
    },
    "kernelspec": {
      "name": "python3",
      "display_name": "Python 3"
    },
    "language_info": {
      "name": "python"
    }
  },
  "cells": [
    {
      "cell_type": "code",
      "execution_count": 1,
      "metadata": {
        "id": "wpvpeCcR3huA"
      },
      "outputs": [],
      "source": [
        "import pandas as pd #Basic packages for creating dataframes and loading dataset\n",
        "import numpy as np\n",
        "\n",
        "import matplotlib.pyplot as plt #Package for visualization\n",
        "\n",
        "import re #importing package for Regular expression operations\n",
        "\n",
        "from sklearn.model_selection import train_test_split #Package for splitting the data\n",
        "\n",
        "from sklearn.preprocessing import LabelEncoder #Package for conversion of categorical to Numerical\n",
        "\n",
        "from keras.preprocessing.text import Tokenizer #Tokenization\n",
        "from tensorflow.keras.preprocessing.sequence import pad_sequences #Add zeros or crop based on the length\n",
        "from keras.models import Sequential #Sequential Neural Network\n",
        "from keras.layers import Dense, Embedding, LSTM, SpatialDropout1D #For layers in Neural Network\n",
        "from keras.utils.np_utils import to_categorical"
      ]
    },
    {
      "cell_type": "code",
      "source": [
        "from google.colab import drive \n",
        "drive.mount('/content/gdrive') "
      ],
      "metadata": {
        "colab": {
          "base_uri": "https://localhost:8080/"
        },
        "id": "ItOvL8YH4D-U",
        "outputId": "dea64873-5810-4294-e2d7-0d9e08616308"
      },
      "execution_count": 2,
      "outputs": [
        {
          "output_type": "stream",
          "name": "stdout",
          "text": [
            "Mounted at /content/gdrive\n"
          ]
        }
      ]
    },
    {
      "cell_type": "code",
      "source": [
        "import pandas as pd\n",
        "\n",
        "# Load the dataset as a Pandas DataFrame\n",
        "dataset = pd.read_csv('/content/gdrive/My Drive/Sentiment.csv')\n",
        "\n",
        "# Select only the necessary columns 'text' and 'sentiment'\n",
        "mask = dataset.columns.isin(['text', 'sentiment'])\n",
        "data = dataset.loc[:, mask]\n",
        "\n",
        "# Keeping only the necessary columns\n",
        "data['text'] = data['text'].apply(lambda x: x.lower())\n",
        "data['text'] = data['text'].apply((lambda x: re.sub('[^a-zA-z0-9\\s]', '', x)))"
      ],
      "metadata": {
        "colab": {
          "base_uri": "https://localhost:8080/"
        },
        "id": "qSg66pDR4MzS",
        "outputId": "8087707f-289a-49d7-9459-7b7f709a5ef4"
      },
      "execution_count": 7,
      "outputs": [
        {
          "output_type": "stream",
          "name": "stderr",
          "text": [
            "<ipython-input-7-d0e745dc69e5>:11: SettingWithCopyWarning: \n",
            "A value is trying to be set on a copy of a slice from a DataFrame.\n",
            "Try using .loc[row_indexer,col_indexer] = value instead\n",
            "\n",
            "See the caveats in the documentation: https://pandas.pydata.org/pandas-docs/stable/user_guide/indexing.html#returning-a-view-versus-a-copy\n",
            "  data['text'] = data['text'].apply(lambda x: x.lower())\n",
            "<ipython-input-7-d0e745dc69e5>:12: SettingWithCopyWarning: \n",
            "A value is trying to be set on a copy of a slice from a DataFrame.\n",
            "Try using .loc[row_indexer,col_indexer] = value instead\n",
            "\n",
            "See the caveats in the documentation: https://pandas.pydata.org/pandas-docs/stable/user_guide/indexing.html#returning-a-view-versus-a-copy\n",
            "  data['text'] = data['text'].apply((lambda x: re.sub('[^a-zA-z0-9\\s]', '', x)))\n"
          ]
        }
      ]
    },
    {
      "cell_type": "code",
      "source": [
        "for idx, row in data.iterrows():\n",
        "    row[0] = row[0].replace('rt', ' ') #Removing Retweets\n",
        "    max_fatures = 2000\n",
        "tokenizer = Tokenizer(num_words=max_fatures, split=' ') #Maximum words is 2000 to tokenize sentence\n",
        "tokenizer.fit_on_texts(data['text'].values) \n",
        "X = tokenizer.texts_to_sequences(data['text'].values) #taking values to feature matrix\n",
        "X = pad_sequences(X) #Padding the feature matrix\n",
        "\n",
        "embed_dim = 128 #Dimension of the Embedded layer\n",
        "lstm_out = 196 #Long short-term memory (LSTM) layer neurons\n",
        "def createmodel():\n",
        "    model = Sequential() #Sequential Neural Network\n",
        "    model.add(Embedding(max_fatures, embed_dim,input_length = X.shape[1])) #input dimension 2000 Neurons, output dimension 128 Neurons\n",
        "    model.add(LSTM(lstm_out, dropout=0.2, recurrent_dropout=0.2)) #Drop out 20%, 196 output Neurons, recurrent dropout 20%\n",
        "    model.add(Dense(3,activation='softmax')) #3 output neurons[positive, Neutral, Negative], softmax as activation\n",
        "    model.compile(loss = 'categorical_crossentropy', optimizer='adam',metrics = ['accuracy']) #Compiling the model\n",
        "    return model\n",
        "# print(model.summary())\n",
        "labelencoder = LabelEncoder() #Applying label Encoding on the label matrix\n",
        "integer_encoded = labelencoder.fit_transform(data['sentiment']) #fitting the model\n",
        "y = to_categorical(integer_encoded)\n",
        "X_train, X_test, Y_train, Y_test = train_test_split(X,y, test_size = 0.33, random_state = 42) #67% training data, 33% test data split\n",
        "batch_size = 32 #Batch size 32\n",
        "model = createmodel() #Function call to Sequential Neural Network\n",
        "model.fit(X_train, Y_train, epochs = 1, batch_size=batch_size, verbose = 2) #verbose the higher, the more messages\n",
        "score,acc = model.evaluate(X_test,Y_test,verbose=2,batch_size=batch_size) #evaluating the model\n",
        "print(score)\n",
        "print(acc)"
      ],
      "metadata": {
        "colab": {
          "base_uri": "https://localhost:8080/"
        },
        "id": "aG8pViYA8UH5",
        "outputId": "6aab6ca0-146a-4e20-c452-bf612af28fa9"
      },
      "execution_count": 8,
      "outputs": [
        {
          "output_type": "stream",
          "name": "stdout",
          "text": [
            "291/291 - 42s - loss: 0.8306 - accuracy: 0.6441 - 42s/epoch - 144ms/step\n",
            "144/144 - 3s - loss: 0.7514 - accuracy: 0.6791 - 3s/epoch - 22ms/step\n",
            "0.7513718008995056\n",
            "0.6791175007820129\n"
          ]
        }
      ]
    },
    {
      "cell_type": "code",
      "source": [
        "print(model.metrics_names) #metrics of the model"
      ],
      "metadata": {
        "colab": {
          "base_uri": "https://localhost:8080/"
        },
        "id": "COjYOCdU9J_V",
        "outputId": "5328e314-7982-4593-af67-008bd44d75dd"
      },
      "execution_count": 9,
      "outputs": [
        {
          "output_type": "stream",
          "name": "stdout",
          "text": [
            "['loss', 'accuracy']\n"
          ]
        }
      ]
    },
    {
      "cell_type": "code",
      "source": [
        "#1. Save the model and use the saved model to predict on new text data (ex, “A lot of good things are happening. We are respected again throughout the world, and that's a great thing.@realDonaldTrump”)"
      ],
      "metadata": {
        "id": "Y5Qb-Utm9L3V"
      },
      "execution_count": 10,
      "outputs": []
    },
    {
      "cell_type": "code",
      "source": [
        "model.save('sentimentAnalysis.h5') #Saving the model"
      ],
      "metadata": {
        "id": "HJbkwdrI9RM_"
      },
      "execution_count": 11,
      "outputs": []
    },
    {
      "cell_type": "code",
      "source": [
        "from keras.models import load_model #Importing the package for importing the saved model\n",
        "model= load_model('sentimentAnalysis.h5') #loading the saved model"
      ],
      "metadata": {
        "id": "TBar1o_-9XLe"
      },
      "execution_count": 12,
      "outputs": []
    },
    {
      "cell_type": "code",
      "source": [
        "print(integer_encoded)\n",
        "print(data['sentiment'])"
      ],
      "metadata": {
        "colab": {
          "base_uri": "https://localhost:8080/"
        },
        "id": "6Kn1ST-v9beP",
        "outputId": "d7084efa-2a40-440f-d062-6b1680bfa2b2"
      },
      "execution_count": 13,
      "outputs": [
        {
          "output_type": "stream",
          "name": "stdout",
          "text": [
            "[1 2 1 ... 2 0 2]\n",
            "0         Neutral\n",
            "1        Positive\n",
            "2         Neutral\n",
            "3        Positive\n",
            "4        Positive\n",
            "           ...   \n",
            "13866    Negative\n",
            "13867    Positive\n",
            "13868    Positive\n",
            "13869    Negative\n",
            "13870    Positive\n",
            "Name: sentiment, Length: 13871, dtype: object\n"
          ]
        }
      ]
    },
    {
      "cell_type": "code",
      "source": [
        "# Predicting on the text data\n",
        "sentence = ['A lot of good things are happening. We are respected again throughout the world, and that is a great thing.@realDonaldTrump']\n",
        "sentence = tokenizer.texts_to_sequences(sentence) # Tokenizing the sentence\n",
        "sentence = pad_sequences(sentence, maxlen=28, dtype='int32', value=0) # Padding the sentence\n",
        "sentiment_probs = model.predict(sentence, batch_size=1, verbose=2)[0] # Predicting the sentence text\n",
        "sentiment = np.argmax(sentiment_probs)\n",
        "\n",
        "print(sentiment_probs)\n",
        "if sentiment == 0:\n",
        "    print(\"Neutral\")\n",
        "elif sentiment < 0:\n",
        "    print(\"Negative\")\n",
        "elif sentiment > 0:\n",
        "    print(\"Positive\")\n",
        "else:\n",
        "    print(\"Cannot be determined\")\n"
      ],
      "metadata": {
        "colab": {
          "base_uri": "https://localhost:8080/"
        },
        "id": "3PmO0W3y9fXs",
        "outputId": "cea32835-67d4-4fa0-d5a3-616c339f0149"
      },
      "execution_count": 14,
      "outputs": [
        {
          "output_type": "stream",
          "name": "stdout",
          "text": [
            "1/1 - 0s - 270ms/epoch - 270ms/step\n",
            "[0.72844136 0.10584743 0.16571125]\n",
            "Neutral\n"
          ]
        }
      ]
    },
    {
      "cell_type": "code",
      "source": [
        "#2. Apply GridSearchCV on the source code provided in the class"
      ],
      "metadata": {
        "id": "P6_Dxtcl9jyr"
      },
      "execution_count": 15,
      "outputs": []
    },
    {
      "cell_type": "code",
      "source": [
        "from keras.wrappers.scikit_learn import KerasClassifier #importing Keras classifier\n",
        "from sklearn.model_selection import GridSearchCV #importing Grid search CV\n",
        "\n",
        "model = KerasClassifier(build_fn=createmodel,verbose=2) #initiating model to test performance by applying multiple hyper parameters\n",
        "batch_size= [10, 20, 40] #hyper parameter batch_size\n",
        "epochs = [1, 2] #hyper parameter no. of epochs\n",
        "param_grid= {'batch_size':batch_size, 'epochs':epochs} #creating dictionary for batch size, no. of epochs\n",
        "grid  = GridSearchCV(estimator=model, param_grid=param_grid) #Applying dictionary with hyper parameters\n",
        "grid_result= grid.fit(X_train,Y_train) #Fitting the model\n",
        "# summarize results\n",
        "print(\"Best: %f using %s\" % (grid_result.best_score_, grid_result.best_params_)) #best score, best hyper parameters"
      ],
      "metadata": {
        "colab": {
          "base_uri": "https://localhost:8080/"
        },
        "id": "0NBZ3-vd9ntz",
        "outputId": "02921e53-56c9-41c4-8bb9-4cf9f26de661"
      },
      "execution_count": 16,
      "outputs": [
        {
          "output_type": "stream",
          "name": "stderr",
          "text": [
            "<ipython-input-16-6c99b49150f4>:4: DeprecationWarning: KerasClassifier is deprecated, use Sci-Keras (https://github.com/adriangb/scikeras) instead. See https://www.adriangb.com/scikeras/stable/migration.html for help migrating.\n",
            "  model = KerasClassifier(build_fn=createmodel,verbose=2) #initiating model to test performance by applying multiple hyper parameters\n"
          ]
        },
        {
          "output_type": "stream",
          "name": "stdout",
          "text": [
            "744/744 - 89s - loss: 0.8275 - accuracy: 0.6466 - 89s/epoch - 120ms/step\n",
            "186/186 - 3s - loss: 0.7607 - accuracy: 0.6676 - 3s/epoch - 18ms/step\n",
            "744/744 - 82s - loss: 0.8253 - accuracy: 0.6473 - 82s/epoch - 111ms/step\n",
            "186/186 - 3s - loss: 0.7795 - accuracy: 0.6676 - 3s/epoch - 15ms/step\n",
            "744/744 - 86s - loss: 0.8231 - accuracy: 0.6434 - 86s/epoch - 116ms/step\n",
            "186/186 - 2s - loss: 0.7761 - accuracy: 0.6686 - 2s/epoch - 13ms/step\n",
            "744/744 - 84s - loss: 0.8271 - accuracy: 0.6425 - 84s/epoch - 113ms/step\n",
            "186/186 - 2s - loss: 0.7908 - accuracy: 0.6738 - 2s/epoch - 12ms/step\n",
            "744/744 - 84s - loss: 0.8205 - accuracy: 0.6451 - 84s/epoch - 113ms/step\n",
            "186/186 - 2s - loss: 0.7877 - accuracy: 0.6615 - 2s/epoch - 12ms/step\n",
            "Epoch 1/2\n",
            "744/744 - 88s - loss: 0.8231 - accuracy: 0.6426 - 88s/epoch - 119ms/step\n",
            "Epoch 2/2\n",
            "744/744 - 83s - loss: 0.6856 - accuracy: 0.7103 - 83s/epoch - 112ms/step\n",
            "186/186 - 2s - loss: 0.7281 - accuracy: 0.6859 - 2s/epoch - 13ms/step\n",
            "Epoch 1/2\n",
            "744/744 - 85s - loss: 0.8195 - accuracy: 0.6469 - 85s/epoch - 114ms/step\n",
            "Epoch 2/2\n",
            "744/744 - 82s - loss: 0.6761 - accuracy: 0.7093 - 82s/epoch - 110ms/step\n",
            "186/186 - 2s - loss: 0.7433 - accuracy: 0.6772 - 2s/epoch - 12ms/step\n",
            "Epoch 1/2\n",
            "744/744 - 85s - loss: 0.8310 - accuracy: 0.6395 - 85s/epoch - 114ms/step\n",
            "Epoch 2/2\n",
            "744/744 - 80s - loss: 0.6790 - accuracy: 0.7116 - 80s/epoch - 108ms/step\n",
            "186/186 - 2s - loss: 0.7463 - accuracy: 0.6864 - 2s/epoch - 12ms/step\n",
            "Epoch 1/2\n",
            "744/744 - 89s - loss: 0.8242 - accuracy: 0.6443 - 89s/epoch - 119ms/step\n",
            "Epoch 2/2\n",
            "744/744 - 85s - loss: 0.6745 - accuracy: 0.7134 - 85s/epoch - 114ms/step\n",
            "186/186 - 4s - loss: 0.7515 - accuracy: 0.6663 - 4s/epoch - 20ms/step\n",
            "Epoch 1/2\n",
            "744/744 - 85s - loss: 0.8125 - accuracy: 0.6500 - 85s/epoch - 114ms/step\n",
            "Epoch 2/2\n",
            "744/744 - 84s - loss: 0.6706 - accuracy: 0.7145 - 84s/epoch - 113ms/step\n",
            "186/186 - 2s - loss: 0.7821 - accuracy: 0.6615 - 2s/epoch - 13ms/step\n",
            "372/372 - 49s - loss: 0.8329 - accuracy: 0.6423 - 49s/epoch - 131ms/step\n",
            "93/93 - 2s - loss: 0.7590 - accuracy: 0.6509 - 2s/epoch - 17ms/step\n",
            "372/372 - 53s - loss: 0.8226 - accuracy: 0.6422 - 53s/epoch - 142ms/step\n",
            "93/93 - 2s - loss: 0.7991 - accuracy: 0.6686 - 2s/epoch - 20ms/step\n",
            "372/372 - 49s - loss: 0.8241 - accuracy: 0.6446 - 49s/epoch - 132ms/step\n",
            "93/93 - 2s - loss: 0.7603 - accuracy: 0.6772 - 2s/epoch - 18ms/step\n",
            "372/372 - 48s - loss: 0.8259 - accuracy: 0.6467 - 48s/epoch - 130ms/step\n",
            "93/93 - 2s - loss: 0.7427 - accuracy: 0.6803 - 2s/epoch - 17ms/step\n",
            "372/372 - 47s - loss: 0.8233 - accuracy: 0.6424 - 47s/epoch - 125ms/step\n",
            "93/93 - 2s - loss: 0.8340 - accuracy: 0.6588 - 2s/epoch - 16ms/step\n",
            "Epoch 1/2\n",
            "372/372 - 53s - loss: 0.8374 - accuracy: 0.6414 - 53s/epoch - 142ms/step\n",
            "Epoch 2/2\n",
            "372/372 - 49s - loss: 0.6863 - accuracy: 0.7063 - 49s/epoch - 132ms/step\n",
            "93/93 - 2s - loss: 0.7550 - accuracy: 0.6762 - 2s/epoch - 19ms/step\n",
            "Epoch 1/2\n",
            "372/372 - 49s - loss: 0.8281 - accuracy: 0.6494 - 49s/epoch - 132ms/step\n",
            "Epoch 2/2\n",
            "372/372 - 46s - loss: 0.6790 - accuracy: 0.7088 - 46s/epoch - 124ms/step\n",
            "93/93 - 2s - loss: 0.7583 - accuracy: 0.6600 - 2s/epoch - 18ms/step\n",
            "Epoch 1/2\n",
            "372/372 - 49s - loss: 0.8330 - accuracy: 0.6394 - 49s/epoch - 132ms/step\n",
            "Epoch 2/2\n",
            "372/372 - 45s - loss: 0.6831 - accuracy: 0.7144 - 45s/epoch - 120ms/step\n",
            "93/93 - 3s - loss: 0.7555 - accuracy: 0.6837 - 3s/epoch - 28ms/step\n",
            "Epoch 1/2\n",
            "372/372 - 54s - loss: 0.8312 - accuracy: 0.6424 - 54s/epoch - 146ms/step\n",
            "Epoch 2/2\n",
            "372/372 - 50s - loss: 0.6755 - accuracy: 0.7126 - 50s/epoch - 135ms/step\n",
            "93/93 - 2s - loss: 0.7513 - accuracy: 0.6717 - 2s/epoch - 19ms/step\n",
            "Epoch 1/2\n",
            "372/372 - 49s - loss: 0.8253 - accuracy: 0.6475 - 49s/epoch - 132ms/step\n",
            "Epoch 2/2\n",
            "372/372 - 46s - loss: 0.6669 - accuracy: 0.7196 - 46s/epoch - 125ms/step\n",
            "93/93 - 2s - loss: 0.7966 - accuracy: 0.6561 - 2s/epoch - 17ms/step\n",
            "186/186 - 30s - loss: 0.8402 - accuracy: 0.6375 - 30s/epoch - 163ms/step\n",
            "47/47 - 1s - loss: 0.7865 - accuracy: 0.6374 - 1s/epoch - 23ms/step\n",
            "186/186 - 33s - loss: 0.8433 - accuracy: 0.6355 - 33s/epoch - 180ms/step\n",
            "47/47 - 1s - loss: 0.7775 - accuracy: 0.6713 - 1s/epoch - 26ms/step\n",
            "186/186 - 32s - loss: 0.8462 - accuracy: 0.6342 - 32s/epoch - 169ms/step\n",
            "47/47 - 2s - loss: 0.7659 - accuracy: 0.6789 - 2s/epoch - 39ms/step\n",
            "186/186 - 31s - loss: 0.8494 - accuracy: 0.6336 - 31s/epoch - 164ms/step\n",
            "47/47 - 1s - loss: 0.7577 - accuracy: 0.6787 - 1s/epoch - 24ms/step\n",
            "186/186 - 33s - loss: 0.8412 - accuracy: 0.6383 - 33s/epoch - 179ms/step\n",
            "47/47 - 1s - loss: 0.7749 - accuracy: 0.6642 - 1s/epoch - 26ms/step\n",
            "Epoch 1/2\n",
            "186/186 - 31s - loss: 0.8417 - accuracy: 0.6414 - 31s/epoch - 167ms/step\n",
            "Epoch 2/2\n",
            "186/186 - 30s - loss: 0.6924 - accuracy: 0.7037 - 30s/epoch - 161ms/step\n",
            "47/47 - 1s - loss: 0.7302 - accuracy: 0.6832 - 1s/epoch - 28ms/step\n",
            "Epoch 1/2\n",
            "186/186 - 31s - loss: 0.8377 - accuracy: 0.6377 - 31s/epoch - 166ms/step\n",
            "Epoch 2/2\n",
            "186/186 - 27s - loss: 0.6905 - accuracy: 0.7086 - 27s/epoch - 148ms/step\n",
            "47/47 - 2s - loss: 0.7384 - accuracy: 0.6826 - 2s/epoch - 41ms/step\n",
            "Epoch 1/2\n",
            "186/186 - 31s - loss: 0.8403 - accuracy: 0.6391 - 31s/epoch - 168ms/step\n",
            "Epoch 2/2\n",
            "186/186 - 29s - loss: 0.6859 - accuracy: 0.7066 - 29s/epoch - 153ms/step\n",
            "47/47 - 2s - loss: 0.7515 - accuracy: 0.6724 - 2s/epoch - 42ms/step\n",
            "Epoch 1/2\n",
            "186/186 - 31s - loss: 0.8492 - accuracy: 0.6293 - 31s/epoch - 164ms/step\n",
            "Epoch 2/2\n",
            "186/186 - 28s - loss: 0.6843 - accuracy: 0.7050 - 28s/epoch - 150ms/step\n",
            "47/47 - 2s - loss: 0.7519 - accuracy: 0.6787 - 2s/epoch - 41ms/step\n",
            "Epoch 1/2\n",
            "186/186 - 30s - loss: 0.8361 - accuracy: 0.6401 - 30s/epoch - 160ms/step\n",
            "Epoch 2/2\n",
            "186/186 - 27s - loss: 0.6828 - accuracy: 0.7119 - 27s/epoch - 148ms/step\n",
            "47/47 - 3s - loss: 0.7860 - accuracy: 0.6625 - 3s/epoch - 58ms/step\n",
            "Epoch 1/2\n",
            "233/233 - 40s - loss: 0.8312 - accuracy: 0.6396 - 40s/epoch - 170ms/step\n",
            "Epoch 2/2\n",
            "233/233 - 37s - loss: 0.6839 - accuracy: 0.7096 - 37s/epoch - 158ms/step\n",
            "Best: 0.675884 using {'batch_size': 40, 'epochs': 2}\n"
          ]
        }
      ]
    }
  ]
}